{
 "cells": [
  {
   "cell_type": "code",
   "execution_count": 312,
   "id": "c514471a",
   "metadata": {},
   "outputs": [],
   "source": [
    "#Import Libraries\n",
    "import pandas as pd\n",
    "import numpy as np\n",
    "from sklearn.linear_model import LinearRegression\n",
    "from sklearn.metrics import r2_score, mean_squared_error\n",
    "import matplotlib.pyplot as plt"
   ]
  },
  {
   "cell_type": "code",
   "execution_count": 313,
   "id": "2f33f564",
   "metadata": {},
   "outputs": [
    {
     "data": {
      "text/html": [
       "<div>\n",
       "<style scoped>\n",
       "    .dataframe tbody tr th:only-of-type {\n",
       "        vertical-align: middle;\n",
       "    }\n",
       "\n",
       "    .dataframe tbody tr th {\n",
       "        vertical-align: top;\n",
       "    }\n",
       "\n",
       "    .dataframe thead th {\n",
       "        text-align: right;\n",
       "    }\n",
       "</style>\n",
       "<table border=\"1\" class=\"dataframe\">\n",
       "  <thead>\n",
       "    <tr style=\"text-align: right;\">\n",
       "      <th></th>\n",
       "      <th>Year</th>\n",
       "      <th>Sales</th>\n",
       "    </tr>\n",
       "  </thead>\n",
       "  <tbody>\n",
       "    <tr>\n",
       "      <th>0</th>\n",
       "      <td>2013</td>\n",
       "      <td>47.520</td>\n",
       "    </tr>\n",
       "    <tr>\n",
       "      <th>1</th>\n",
       "      <td>2013</td>\n",
       "      <td>81.384</td>\n",
       "    </tr>\n",
       "    <tr>\n",
       "      <th>2</th>\n",
       "      <td>2014</td>\n",
       "      <td>2495.376</td>\n",
       "    </tr>\n",
       "    <tr>\n",
       "      <th>3</th>\n",
       "      <td>2015</td>\n",
       "      <td>61077.636</td>\n",
       "    </tr>\n",
       "    <tr>\n",
       "      <th>4</th>\n",
       "      <td>2014</td>\n",
       "      <td>63309.528</td>\n",
       "    </tr>\n",
       "    <tr>\n",
       "      <th>...</th>\n",
       "      <td>...</td>\n",
       "      <td>...</td>\n",
       "    </tr>\n",
       "    <tr>\n",
       "      <th>103</th>\n",
       "      <td>2022</td>\n",
       "      <td>199405.740</td>\n",
       "    </tr>\n",
       "    <tr>\n",
       "      <th>104</th>\n",
       "      <td>2022</td>\n",
       "      <td>200604.240</td>\n",
       "    </tr>\n",
       "    <tr>\n",
       "      <th>105</th>\n",
       "      <td>2022</td>\n",
       "      <td>200993.460</td>\n",
       "    </tr>\n",
       "    <tr>\n",
       "      <th>106</th>\n",
       "      <td>2022</td>\n",
       "      <td>202159.740</td>\n",
       "    </tr>\n",
       "    <tr>\n",
       "      <th>107</th>\n",
       "      <td>2022</td>\n",
       "      <td>218030.400</td>\n",
       "    </tr>\n",
       "  </tbody>\n",
       "</table>\n",
       "<p>108 rows × 2 columns</p>\n",
       "</div>"
      ],
      "text/plain": [
       "     Year       Sales\n",
       "0    2013      47.520\n",
       "1    2013      81.384\n",
       "2    2014    2495.376\n",
       "3    2015   61077.636\n",
       "4    2014   63309.528\n",
       "..    ...         ...\n",
       "103  2022  199405.740\n",
       "104  2022  200604.240\n",
       "105  2022  200993.460\n",
       "106  2022  202159.740\n",
       "107  2022  218030.400\n",
       "\n",
       "[108 rows x 2 columns]"
      ]
     },
     "execution_count": 313,
     "metadata": {},
     "output_type": "execute_result"
    }
   ],
   "source": [
    "#Import data\n",
    "data = pd.read_csv(\"Sales_LR.csv\")\n",
    "data"
   ]
  },
  {
   "cell_type": "code",
   "execution_count": 314,
   "id": "5933f574",
   "metadata": {},
   "outputs": [
    {
     "name": "stdout",
     "output_type": "stream",
     "text": [
      "   Year       Sales\n",
      "0  2013      64.452\n",
      "1  2014   65345.309\n",
      "2  2015   72473.177\n",
      "3  2016   79708.587\n",
      "4  2017   97240.715\n",
      "5  2018  102657.970\n",
      "6  2019  117128.750\n",
      "7  2020  131857.580\n",
      "8  2021  154069.830\n",
      "9  2022  194525.850\n"
     ]
    }
   ],
   "source": [
    "# Identify duplicate entries\n",
    "duplicates = data.duplicated(subset='Year', keep=False)\n",
    "# get mean sales for duplicate years \n",
    "aggregated_data = data.groupby('Year')['Sales'].mean().reset_index()\n",
    "# Remove duplicate year entries\n",
    "cleaned_data = data[~duplicates]\n",
    "# Merge data\n",
    "final_data = pd.concat([cleaned_data, aggregated_data])\n",
    "# Sort according to year\n",
    "final_data = final_data.sort_values('Year')\n",
    "# Print the cleaned and aggregated data\n",
    "print(final_data)"
   ]
  },
  {
   "cell_type": "code",
   "execution_count": 320,
   "id": "5ad83398",
   "metadata": {
    "collapsed": true
   },
   "outputs": [
    {
     "name": "stdout",
     "output_type": "stream",
     "text": [
      "[[2013]\n",
      " [2014]\n",
      " [2015]\n",
      " [2016]\n",
      " [2017]\n",
      " [2018]\n",
      " [2019]\n",
      " [2020]\n",
      " [2021]\n",
      " [2022]]\n",
      "[[6.4452000e+01]\n",
      " [6.5345309e+04]\n",
      " [7.2473177e+04]\n",
      " [7.9708587e+04]\n",
      " [9.7240715e+04]\n",
      " [1.0265797e+05]\n",
      " [1.1712875e+05]\n",
      " [1.3185758e+05]\n",
      " [1.5406983e+05]\n",
      " [1.9452585e+05]]\n"
     ]
    }
   ],
   "source": [
    "# Create the features and target variables\n",
    "year = final_data[[\"Year\"]].values.reshape(-1, 1)\n",
    "sales = final_data[[\"Sales\"]].values.reshape(-1, 1)\n",
    "print(year)\n",
    "print(sales)"
   ]
  },
  {
   "cell_type": "code",
   "execution_count": 319,
   "id": "76ac3f99",
   "metadata": {},
   "outputs": [
    {
     "data": {
      "text/plain": [
       "LinearRegression()"
      ]
     },
     "execution_count": 319,
     "metadata": {},
     "output_type": "execute_result"
    }
   ],
   "source": [
    "model = LinearRegression()\n",
    "model\n",
    "model.fit(year, sales)"
   ]
  },
  {
   "cell_type": "code",
   "execution_count": 321,
   "id": "4b709992",
   "metadata": {
    "scrolled": true
   },
   "outputs": [
    {
     "name": "stdout",
     "output_type": "stream",
     "text": [
      "   Year  Predicted Sales\n",
      "0  2016     76181.549382\n",
      "1  2017     93065.331127\n",
      "2  2019    126832.894618\n",
      "3  2024    211251.803345\n",
      "4  2025    228135.585091\n",
      "5  2023    194368.021600\n",
      "6  2022    177484.239855\n",
      "7  2020    143716.676364\n",
      "8  2026    245019.366836\n",
      "9  2027    261903.148582\n"
     ]
    }
   ],
   "source": [
    "#predict sales\n",
    "new_data = pd.DataFrame({'Year': [2016,2017,2019,2024,2025,2023,2022,2020,2026,2027]}).values.reshape(-1,1) \n",
    "prediction = model.predict(new_data)\n",
    "df = pd.DataFrame({'Year': new_data.flatten(), 'Predicted Sales': prediction.flatten()})\n",
    "print(df)\n",
    "\n",
    "# print(\"Sales prediction for year\")\n",
    "# print(prediction)"
   ]
  },
  {
   "cell_type": "code",
   "execution_count": null,
   "id": "d55f2c3f",
   "metadata": {},
   "outputs": [],
   "source": []
  },
  {
   "cell_type": "code",
   "execution_count": null,
   "id": "3ac6c068",
   "metadata": {},
   "outputs": [],
   "source": []
  },
  {
   "cell_type": "code",
   "execution_count": 318,
   "id": "271edd27",
   "metadata": {},
   "outputs": [
    {
     "data": {
      "image/png": "[encoded data removed]",
      "text/plain": [
       "<Figure size 640x480 with 1 Axes>"
      ]
     },
     "metadata": {},
     "output_type": "display_data"
    },
    {
     "name": "stdout",
     "output_type": "stream",
     "text": [
      "R2 Score: \n",
      "0.9216643173690003\n",
      "MS Error: \n",
      "199885028.21835923\n"
     ]
    }
   ],
   "source": [
    "# actual values and the predicted values\n",
    "plt.scatter(year, sales, color='blue', label='Actual')\n",
    "plt.scatter(new_data, prediction, color='red', label='Predicted')\n",
    "plt.xlabel('Year')\n",
    "plt.ylabel('Sales')\n",
    "plt.title('Value Comparison')\n",
    "plt.legend()\n",
    "plt.show()\n",
    "y_pred =model.predict(year)\n",
    "r2 = r2_score(sales, y_pred)\n",
    "mse = mean_squared_error(sales, y_pred)\n",
    "print('R2 Score: ')\n",
    "print(r2)\n",
    "print('MS Error: ')\n",
    "print(mse)"
   ]
  }
 ],
 "metadata": {
  "kernelspec": {
   "display_name": "Python 3 (ipykernel)",
   "language": "python",
   "name": "python3"
  },
  "language_info": {
   "codemirror_mode": {
    "name": "ipython",
    "version": 3
   },
   "file_extension": ".py",
   "mimetype": "text/x-python",
   "name": "python",
   "nbconvert_exporter": "python",
   "pygments_lexer": "ipython3",
   "version": "3.9.13"
  }
 },
 "nbformat": 4,
 "nbformat_minor": 5
}
